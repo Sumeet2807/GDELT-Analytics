{
 "cells": [
  {
   "cell_type": "code",
   "execution_count": 1,
   "metadata": {},
   "outputs": [
    {
     "data": {
      "text/plain": [
       "['config.ini']"
      ]
     },
     "execution_count": 1,
     "metadata": {},
     "output_type": "execute_result"
    }
   ],
   "source": [
    "import configparser\n",
    "import sys\n",
    "config_file_name = 'config.ini'\n",
    "config = configparser.ConfigParser(allow_no_value=True,delimiters=':')\n",
    "config.read(config_file_name)\n",
    "\n",
    "\n"
   ]
  },
  {
   "cell_type": "code",
   "execution_count": 2,
   "metadata": {},
   "outputs": [
    {
     "name": "stdout",
     "output_type": "stream",
     "text": [
      "[('test_table',)]\n"
     ]
    }
   ],
   "source": [
    "#postgreSQL\n",
    "import psycopg2\n",
    "# Add config processing if any\n",
    "Identifier = 'postgre'\n",
    "\n",
    "if Identifier not in config:\n",
    "    print(\"Error - config not found\")\n",
    "    sys.exit()\n",
    "\n",
    "if 'conn_string' not in config[Identifier]:\n",
    "    print(\"Error - config missing\")\n",
    "    sys.exit()\n",
    "conn_string = str(config[Identifier]['conn_string'])\n",
    "\n",
    "\n",
    "conn = psycopg2.connect(conn_string)\n",
    "\n",
    "cursor = conn.cursor()\n",
    "cursor.execute(\"select relname from pg_class where relkind='r' and relname !~ '^(pg_|sql_)';\")\n",
    "print(cursor.fetchall())\n"
   ]
  }
 ],
 "metadata": {
  "interpreter": {
   "hash": "a4e011bea087348f089ed99a7f4744fa8e15b41a6914d8f39c20b970ed3434b0"
  },
  "kernelspec": {
   "display_name": "Python 3.9.7 ('ml')",
   "language": "python",
   "name": "python3"
  },
  "language_info": {
   "codemirror_mode": {
    "name": "ipython",
    "version": 3
   },
   "file_extension": ".py",
   "mimetype": "text/x-python",
   "name": "python",
   "nbconvert_exporter": "python",
   "pygments_lexer": "ipython3",
   "version": "3.9.7"
  },
  "orig_nbformat": 4
 },
 "nbformat": 4,
 "nbformat_minor": 2
}
